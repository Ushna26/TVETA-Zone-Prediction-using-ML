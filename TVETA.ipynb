{
 "cells": [
  {
   "cell_type": "code",
   "execution_count": 35,
   "id": "0cc7e449",
   "metadata": {},
   "outputs": [
    {
     "data": {
      "text/plain": [
       "(306744, 7)"
      ]
     },
     "execution_count": 35,
     "metadata": {},
     "output_type": "execute_result"
    }
   ],
   "source": [
    "import pandas as pd\n",
    "df = pd.read_excel('class status.xlsx')\n",
    "df.shape"
   ]
  },
  {
   "cell_type": "code",
   "execution_count": 36,
   "id": "b92906c8",
   "metadata": {},
   "outputs": [
    {
     "data": {
      "text/html": [
       "<div>\n",
       "<style scoped>\n",
       "    .dataframe tbody tr th:only-of-type {\n",
       "        vertical-align: middle;\n",
       "    }\n",
       "\n",
       "    .dataframe tbody tr th {\n",
       "        vertical-align: top;\n",
       "    }\n",
       "\n",
       "    .dataframe thead th {\n",
       "        text-align: right;\n",
       "    }\n",
       "</style>\n",
       "<table border=\"1\" class=\"dataframe\">\n",
       "  <thead>\n",
       "    <tr style=\"text-align: right;\">\n",
       "      <th></th>\n",
       "      <th>Zone</th>\n",
       "      <th>Districts</th>\n",
       "      <th>TradeName</th>\n",
       "      <th>TradeType</th>\n",
       "      <th>Duration</th>\n",
       "      <th>Gender</th>\n",
       "      <th>Status</th>\n",
       "    </tr>\n",
       "  </thead>\n",
       "  <tbody>\n",
       "    <tr>\n",
       "      <th>0</th>\n",
       "      <td>Center Zone</td>\n",
       "      <td>Gujranwala</td>\n",
       "      <td>Electrical (DAE)</td>\n",
       "      <td>Electrical</td>\n",
       "      <td>36</td>\n",
       "      <td>Male</td>\n",
       "      <td>Untraceable</td>\n",
       "    </tr>\n",
       "    <tr>\n",
       "      <th>1</th>\n",
       "      <td>Center Zone</td>\n",
       "      <td>Gujranwala</td>\n",
       "      <td>Electrical (DAE)</td>\n",
       "      <td>Electrical</td>\n",
       "      <td>36</td>\n",
       "      <td>Male</td>\n",
       "      <td>Untraceable</td>\n",
       "    </tr>\n",
       "    <tr>\n",
       "      <th>2</th>\n",
       "      <td>Center Zone</td>\n",
       "      <td>Gujranwala</td>\n",
       "      <td>Electrical (DAE)</td>\n",
       "      <td>Electrical</td>\n",
       "      <td>36</td>\n",
       "      <td>Male</td>\n",
       "      <td>Untraceable</td>\n",
       "    </tr>\n",
       "    <tr>\n",
       "      <th>3</th>\n",
       "      <td>Center Zone</td>\n",
       "      <td>Gujranwala</td>\n",
       "      <td>Electrical (DAE)</td>\n",
       "      <td>Electrical</td>\n",
       "      <td>36</td>\n",
       "      <td>Male</td>\n",
       "      <td>Untraceable</td>\n",
       "    </tr>\n",
       "    <tr>\n",
       "      <th>4</th>\n",
       "      <td>Center Zone</td>\n",
       "      <td>Gujranwala</td>\n",
       "      <td>Electrical (DAE)</td>\n",
       "      <td>Electrical</td>\n",
       "      <td>36</td>\n",
       "      <td>Male</td>\n",
       "      <td>Untraceable</td>\n",
       "    </tr>\n",
       "  </tbody>\n",
       "</table>\n",
       "</div>"
      ],
      "text/plain": [
       "          Zone   Districts         TradeName   TradeType  Duration Gender  \\\n",
       "0  Center Zone  Gujranwala  Electrical (DAE)  Electrical        36   Male   \n",
       "1  Center Zone  Gujranwala  Electrical (DAE)  Electrical        36   Male   \n",
       "2  Center Zone  Gujranwala  Electrical (DAE)  Electrical        36   Male   \n",
       "3  Center Zone  Gujranwala  Electrical (DAE)  Electrical        36   Male   \n",
       "4  Center Zone  Gujranwala  Electrical (DAE)  Electrical        36   Male   \n",
       "\n",
       "        Status  \n",
       "0  Untraceable  \n",
       "1  Untraceable  \n",
       "2  Untraceable  \n",
       "3  Untraceable  \n",
       "4  Untraceable  "
      ]
     },
     "execution_count": 36,
     "metadata": {},
     "output_type": "execute_result"
    }
   ],
   "source": [
    "df.head()"
   ]
  },
  {
   "cell_type": "code",
   "execution_count": 37,
   "id": "0a3a2a27",
   "metadata": {},
   "outputs": [
    {
     "data": {
      "text/plain": [
       "Zone         object\n",
       "Districts    object\n",
       "TradeName    object\n",
       "TradeType    object\n",
       "Duration      int64\n",
       "Gender       object\n",
       "Status       object\n",
       "dtype: object"
      ]
     },
     "execution_count": 37,
     "metadata": {},
     "output_type": "execute_result"
    }
   ],
   "source": [
    "df.dtypes"
   ]
  },
  {
   "cell_type": "code",
   "execution_count": 38,
   "id": "0486f85d",
   "metadata": {},
   "outputs": [
    {
     "data": {
      "text/plain": [
       "array(['Center Zone', 'North Zone', 'South Zone'], dtype=object)"
      ]
     },
     "execution_count": 38,
     "metadata": {},
     "output_type": "execute_result"
    }
   ],
   "source": [
    "pd.unique(df[['Zone']].values.ravel())"
   ]
  },
  {
   "cell_type": "code",
   "execution_count": 39,
   "id": "3a0db3de",
   "metadata": {},
   "outputs": [],
   "source": [
    "df=df.drop(['Status','Districts','Gender'],axis=1)"
   ]
  },
  {
   "cell_type": "code",
   "execution_count": 40,
   "id": "f27b0ea3",
   "metadata": {},
   "outputs": [
    {
     "data": {
      "text/plain": [
       "Zone         0\n",
       "TradeName    0\n",
       "TradeType    0\n",
       "Duration     0\n",
       "dtype: int64"
      ]
     },
     "execution_count": 40,
     "metadata": {},
     "output_type": "execute_result"
    }
   ],
   "source": [
    "df.isnull().sum()"
   ]
  },
  {
   "cell_type": "code",
   "execution_count": 41,
   "id": "f16ae5fb",
   "metadata": {},
   "outputs": [
    {
     "data": {
      "text/plain": [
       "306001"
      ]
     },
     "execution_count": 41,
     "metadata": {},
     "output_type": "execute_result"
    }
   ],
   "source": [
    "df.duplicated().sum()"
   ]
  },
  {
   "cell_type": "code",
   "execution_count": 42,
   "id": "1c40ccb3",
   "metadata": {},
   "outputs": [
    {
     "data": {
      "text/html": [
       "<div>\n",
       "<style scoped>\n",
       "    .dataframe tbody tr th:only-of-type {\n",
       "        vertical-align: middle;\n",
       "    }\n",
       "\n",
       "    .dataframe tbody tr th {\n",
       "        vertical-align: top;\n",
       "    }\n",
       "\n",
       "    .dataframe thead th {\n",
       "        text-align: right;\n",
       "    }\n",
       "</style>\n",
       "<table border=\"1\" class=\"dataframe\">\n",
       "  <thead>\n",
       "    <tr style=\"text-align: right;\">\n",
       "      <th></th>\n",
       "      <th>Zone</th>\n",
       "      <th>TradeName</th>\n",
       "      <th>TradeType</th>\n",
       "      <th>Duration</th>\n",
       "    </tr>\n",
       "  </thead>\n",
       "  <tbody>\n",
       "    <tr>\n",
       "      <th>0</th>\n",
       "      <td>Center Zone</td>\n",
       "      <td>Electrical (DAE)</td>\n",
       "      <td>Electrical</td>\n",
       "      <td>36</td>\n",
       "    </tr>\n",
       "    <tr>\n",
       "      <th>51</th>\n",
       "      <td>Center Zone</td>\n",
       "      <td>Electronics (DAE)</td>\n",
       "      <td>Electronics</td>\n",
       "      <td>36</td>\n",
       "    </tr>\n",
       "    <tr>\n",
       "      <th>88</th>\n",
       "      <td>Center Zone</td>\n",
       "      <td>Mechanical (DAE)</td>\n",
       "      <td>Mechanical</td>\n",
       "      <td>36</td>\n",
       "    </tr>\n",
       "    <tr>\n",
       "      <th>108</th>\n",
       "      <td>Center Zone</td>\n",
       "      <td>Instrumentation (DAE)</td>\n",
       "      <td>Instrumentation</td>\n",
       "      <td>36</td>\n",
       "    </tr>\n",
       "    <tr>\n",
       "      <th>130</th>\n",
       "      <td>Center Zone</td>\n",
       "      <td>Leather Technology (DAE)</td>\n",
       "      <td>Leather</td>\n",
       "      <td>36</td>\n",
       "    </tr>\n",
       "    <tr>\n",
       "      <th>...</th>\n",
       "      <td>...</td>\n",
       "      <td>...</td>\n",
       "      <td>...</td>\n",
       "      <td>...</td>\n",
       "    </tr>\n",
       "    <tr>\n",
       "      <th>298461</th>\n",
       "      <td>South Zone</td>\n",
       "      <td>AutoCad (PMYSDP)</td>\n",
       "      <td>Civil</td>\n",
       "      <td>6</td>\n",
       "    </tr>\n",
       "    <tr>\n",
       "      <th>298478</th>\n",
       "      <td>South Zone</td>\n",
       "      <td>Electronic Technician (PMYSDP)</td>\n",
       "      <td>Electronics</td>\n",
       "      <td>6</td>\n",
       "    </tr>\n",
       "    <tr>\n",
       "      <th>301373</th>\n",
       "      <td>South Zone</td>\n",
       "      <td>Auto Mechanic (Petrol)</td>\n",
       "      <td>Mechanical</td>\n",
       "      <td>3</td>\n",
       "    </tr>\n",
       "    <tr>\n",
       "      <th>303429</th>\n",
       "      <td>South Zone</td>\n",
       "      <td>Machinist (IDD)</td>\n",
       "      <td>Mechanical</td>\n",
       "      <td>6</td>\n",
       "    </tr>\n",
       "    <tr>\n",
       "      <th>305501</th>\n",
       "      <td>South Zone</td>\n",
       "      <td>Paint Polish</td>\n",
       "      <td>Civil</td>\n",
       "      <td>6</td>\n",
       "    </tr>\n",
       "  </tbody>\n",
       "</table>\n",
       "<p>743 rows × 4 columns</p>\n",
       "</div>"
      ],
      "text/plain": [
       "               Zone                       TradeName        TradeType  Duration\n",
       "0       Center Zone                Electrical (DAE)       Electrical        36\n",
       "51      Center Zone               Electronics (DAE)      Electronics        36\n",
       "88      Center Zone                Mechanical (DAE)       Mechanical        36\n",
       "108     Center Zone           Instrumentation (DAE)  Instrumentation        36\n",
       "130     Center Zone        Leather Technology (DAE)          Leather        36\n",
       "...             ...                             ...              ...       ...\n",
       "298461   South Zone                AutoCad (PMYSDP)            Civil         6\n",
       "298478   South Zone  Electronic Technician (PMYSDP)      Electronics         6\n",
       "301373   South Zone          Auto Mechanic (Petrol)       Mechanical         3\n",
       "303429   South Zone                 Machinist (IDD)       Mechanical         6\n",
       "305501   South Zone                    Paint Polish            Civil         6\n",
       "\n",
       "[743 rows x 4 columns]"
      ]
     },
     "execution_count": 42,
     "metadata": {},
     "output_type": "execute_result"
    }
   ],
   "source": [
    "df.drop_duplicates()"
   ]
  },
  {
   "cell_type": "code",
   "execution_count": 43,
   "id": "d4c341e1",
   "metadata": {},
   "outputs": [
    {
     "data": {
      "text/html": [
       "<div>\n",
       "<style scoped>\n",
       "    .dataframe tbody tr th:only-of-type {\n",
       "        vertical-align: middle;\n",
       "    }\n",
       "\n",
       "    .dataframe tbody tr th {\n",
       "        vertical-align: top;\n",
       "    }\n",
       "\n",
       "    .dataframe thead th {\n",
       "        text-align: right;\n",
       "    }\n",
       "</style>\n",
       "<table border=\"1\" class=\"dataframe\">\n",
       "  <thead>\n",
       "    <tr style=\"text-align: right;\">\n",
       "      <th></th>\n",
       "      <th>Zone</th>\n",
       "      <th>TradeName</th>\n",
       "      <th>TradeType</th>\n",
       "      <th>Duration</th>\n",
       "    </tr>\n",
       "  </thead>\n",
       "  <tbody>\n",
       "    <tr>\n",
       "      <th>0</th>\n",
       "      <td>Center Zone</td>\n",
       "      <td>Electrical (DAE)</td>\n",
       "      <td>Electrical</td>\n",
       "      <td>36</td>\n",
       "    </tr>\n",
       "    <tr>\n",
       "      <th>1</th>\n",
       "      <td>Center Zone</td>\n",
       "      <td>Electrical (DAE)</td>\n",
       "      <td>Electrical</td>\n",
       "      <td>36</td>\n",
       "    </tr>\n",
       "    <tr>\n",
       "      <th>2</th>\n",
       "      <td>Center Zone</td>\n",
       "      <td>Electrical (DAE)</td>\n",
       "      <td>Electrical</td>\n",
       "      <td>36</td>\n",
       "    </tr>\n",
       "    <tr>\n",
       "      <th>3</th>\n",
       "      <td>Center Zone</td>\n",
       "      <td>Electrical (DAE)</td>\n",
       "      <td>Electrical</td>\n",
       "      <td>36</td>\n",
       "    </tr>\n",
       "    <tr>\n",
       "      <th>4</th>\n",
       "      <td>Center Zone</td>\n",
       "      <td>Electrical (DAE)</td>\n",
       "      <td>Electrical</td>\n",
       "      <td>36</td>\n",
       "    </tr>\n",
       "  </tbody>\n",
       "</table>\n",
       "</div>"
      ],
      "text/plain": [
       "          Zone         TradeName   TradeType  Duration\n",
       "0  Center Zone  Electrical (DAE)  Electrical        36\n",
       "1  Center Zone  Electrical (DAE)  Electrical        36\n",
       "2  Center Zone  Electrical (DAE)  Electrical        36\n",
       "3  Center Zone  Electrical (DAE)  Electrical        36\n",
       "4  Center Zone  Electrical (DAE)  Electrical        36"
      ]
     },
     "execution_count": 43,
     "metadata": {},
     "output_type": "execute_result"
    }
   ],
   "source": [
    "df.head()"
   ]
  },
  {
   "cell_type": "code",
   "execution_count": 44,
   "id": "f3b22c64",
   "metadata": {},
   "outputs": [
    {
     "data": {
      "text/plain": [
       "(306744, 4)"
      ]
     },
     "execution_count": 44,
     "metadata": {},
     "output_type": "execute_result"
    }
   ],
   "source": [
    "df.shape"
   ]
  },
  {
   "cell_type": "code",
   "execution_count": 62,
   "id": "2f74658e",
   "metadata": {},
   "outputs": [],
   "source": [
    "from sklearn import preprocessing\n",
    "df1=df.apply(preprocessing.LabelEncoder().fit_transform)"
   ]
  },
  {
   "cell_type": "code",
   "execution_count": 69,
   "id": "e760a5f5",
   "metadata": {},
   "outputs": [
    {
     "data": {
      "text/html": [
       "<div>\n",
       "<style scoped>\n",
       "    .dataframe tbody tr th:only-of-type {\n",
       "        vertical-align: middle;\n",
       "    }\n",
       "\n",
       "    .dataframe tbody tr th {\n",
       "        vertical-align: top;\n",
       "    }\n",
       "\n",
       "    .dataframe thead th {\n",
       "        text-align: right;\n",
       "    }\n",
       "</style>\n",
       "<table border=\"1\" class=\"dataframe\">\n",
       "  <thead>\n",
       "    <tr style=\"text-align: right;\">\n",
       "      <th></th>\n",
       "      <th>Zone</th>\n",
       "      <th>TradeName</th>\n",
       "      <th>TradeType</th>\n",
       "      <th>Duration</th>\n",
       "    </tr>\n",
       "  </thead>\n",
       "  <tbody>\n",
       "    <tr>\n",
       "      <th>count</th>\n",
       "      <td>306744.000000</td>\n",
       "      <td>306744.000000</td>\n",
       "      <td>306744.000000</td>\n",
       "      <td>306744.000000</td>\n",
       "    </tr>\n",
       "    <tr>\n",
       "      <th>mean</th>\n",
       "      <td>0.963921</td>\n",
       "      <td>123.675198</td>\n",
       "      <td>15.259285</td>\n",
       "      <td>4.461293</td>\n",
       "    </tr>\n",
       "    <tr>\n",
       "      <th>std</th>\n",
       "      <td>0.789735</td>\n",
       "      <td>80.531498</td>\n",
       "      <td>7.632376</td>\n",
       "      <td>2.018980</td>\n",
       "    </tr>\n",
       "    <tr>\n",
       "      <th>min</th>\n",
       "      <td>0.000000</td>\n",
       "      <td>0.000000</td>\n",
       "      <td>0.000000</td>\n",
       "      <td>0.000000</td>\n",
       "    </tr>\n",
       "    <tr>\n",
       "      <th>25%</th>\n",
       "      <td>0.000000</td>\n",
       "      <td>59.000000</td>\n",
       "      <td>10.000000</td>\n",
       "      <td>2.000000</td>\n",
       "    </tr>\n",
       "    <tr>\n",
       "      <th>50%</th>\n",
       "      <td>1.000000</td>\n",
       "      <td>103.000000</td>\n",
       "      <td>14.000000</td>\n",
       "      <td>4.000000</td>\n",
       "    </tr>\n",
       "    <tr>\n",
       "      <th>75%</th>\n",
       "      <td>2.000000</td>\n",
       "      <td>177.000000</td>\n",
       "      <td>20.000000</td>\n",
       "      <td>5.000000</td>\n",
       "    </tr>\n",
       "    <tr>\n",
       "      <th>max</th>\n",
       "      <td>2.000000</td>\n",
       "      <td>299.000000</td>\n",
       "      <td>34.000000</td>\n",
       "      <td>8.000000</td>\n",
       "    </tr>\n",
       "  </tbody>\n",
       "</table>\n",
       "</div>"
      ],
      "text/plain": [
       "                Zone      TradeName      TradeType       Duration\n",
       "count  306744.000000  306744.000000  306744.000000  306744.000000\n",
       "mean        0.963921     123.675198      15.259285       4.461293\n",
       "std         0.789735      80.531498       7.632376       2.018980\n",
       "min         0.000000       0.000000       0.000000       0.000000\n",
       "25%         0.000000      59.000000      10.000000       2.000000\n",
       "50%         1.000000     103.000000      14.000000       4.000000\n",
       "75%         2.000000     177.000000      20.000000       5.000000\n",
       "max         2.000000     299.000000      34.000000       8.000000"
      ]
     },
     "execution_count": 69,
     "metadata": {},
     "output_type": "execute_result"
    }
   ],
   "source": [
    "df1.describe()"
   ]
  },
  {
   "cell_type": "code",
   "execution_count": 65,
   "id": "5eab86a7",
   "metadata": {},
   "outputs": [
    {
     "data": {
      "text/plain": [
       "<AxesSubplot:title={'center':'Correlation Analysis'}>"
      ]
     },
     "execution_count": 65,
     "metadata": {},
     "output_type": "execute_result"
    },
    {
     "data": {
      "image/png": "[encoded data removed]",
      "text/plain": [
       "<Figure size 576x360 with 2 Axes>"
      ]
     },
     "metadata": {},
     "output_type": "display_data"
    }
   ],
   "source": [
    "import matplotlib.pyplot as plt\n",
    "import seaborn as sns\n",
    "plt.figure(figsize=(8,5))\n",
    "plt.style.use(\"seaborn\")\n",
    "plt.title(\"Correlation Analysis\")\n",
    "c= df1.corr()\n",
    "sns.heatmap(c,cmap='PiYG',annot=True)"
   ]
  },
  {
   "cell_type": "code",
   "execution_count": 73,
   "id": "c240b8b3",
   "metadata": {},
   "outputs": [],
   "source": [
    "from sklearn.model_selection import train_test_split\n",
    "import numpy as np\n",
    "df.replace([np.inf, -np.inf], np.nan, inplace=True)\n",
    "X = df.drop(['Zone'],axis=1)\n",
    "y = df['Zone']\n",
    "X_train, X_test, y_train, y_test = train_test_split(X,y,test_size=0.25,random_state=0,shuffle=True)\n",
    "import category_encoders as c\n",
    "enc = c.OneHotEncoder(cols=['TradeName','TradeType'])\n",
    "X_train = enc.fit_transform(X_train)\n",
    "X_test = enc.transform(X_test)"
   ]
  },
  {
   "cell_type": "code",
   "execution_count": 76,
   "id": "4e7a76f0",
   "metadata": {},
   "outputs": [
    {
     "name": "stdout",
     "output_type": "stream",
     "text": [
      "GuassianNB Accuracy: 0.40228985734032285\n",
      "Classification Report of Gussian :\n",
      "              precision    recall  f1-score   support\n",
      "\n",
      " Center Zone       0.80      0.10      0.18     25364\n",
      "  North Zone       0.58      0.26      0.36     28815\n",
      "  South Zone       0.34      0.92      0.50     22507\n",
      "\n",
      "    accuracy                           0.40     76686\n",
      "   macro avg       0.57      0.43      0.35     76686\n",
      "weighted avg       0.58      0.40      0.34     76686\n",
      "\n",
      "Confuusion Matrix\n"
     ]
    },
    {
     "data": {
      "text/plain": [
       "<AxesSubplot:>"
      ]
     },
     "execution_count": 76,
     "metadata": {},
     "output_type": "execute_result"
    },
    {
     "data": {
      "image/png": "[encoded data removed]",
      "text/plain": [
       "<Figure size 576x360 with 2 Axes>"
      ]
     },
     "metadata": {},
     "output_type": "display_data"
    }
   ],
   "source": [
    "from sklearn.naive_bayes import GaussianNB\n",
    "from sklearn.metrics import classification_report\n",
    "from sklearn import metrics\n",
    "NB = GaussianNB().fit(X_train, y_train)\n",
    "predicted1= NB.predict(X_test)\n",
    "print(\"GuassianNB Accuracy:\",metrics.accuracy_score(y_test, predicted1))\n",
    "print(\"Classification Report of Gussian :\")\n",
    "print(classification_report(y_test, predicted1))\n",
    "print(\"Confuusion Matrix\")\n",
    "cmn=metrics.confusion_matrix(y_test, predicted1)\n",
    "plt.figure(figsize=(8,5))\n",
    "plt.style.use(\"seaborn\")\n",
    "sns.heatmap(cmn,cmap='PiYG',annot=True)"
   ]
  },
  {
   "cell_type": "code",
   "execution_count": 77,
   "id": "45140b7a",
   "metadata": {},
   "outputs": [
    {
     "name": "stdout",
     "output_type": "stream",
     "text": [
      "RandomForest Accuracy: 0.43696372219179513\n",
      "Classification Report of RandomForest:\n",
      "              precision    recall  f1-score   support\n",
      "\n",
      " Center Zone       0.66      0.18      0.28     25364\n",
      "  North Zone       0.40      0.94      0.56     28815\n",
      "  South Zone       0.72      0.09      0.16     22507\n",
      "\n",
      "    accuracy                           0.44     76686\n",
      "   macro avg       0.60      0.40      0.33     76686\n",
      "weighted avg       0.58      0.44      0.35     76686\n",
      "\n",
      "Confuusion Matrix\n"
     ]
    },
    {
     "data": {
      "text/plain": [
       "<AxesSubplot:>"
      ]
     },
     "execution_count": 77,
     "metadata": {},
     "output_type": "execute_result"
    },
    {
     "data": {
      "image/png": "[encoded data removed]",
      "text/plain": [
       "<Figure size 576x360 with 2 Axes>"
      ]
     },
     "metadata": {},
     "output_type": "display_data"
    }
   ],
   "source": [
    "from sklearn.ensemble import RandomForestClassifier\n",
    "classifier_rf = RandomForestClassifier(random_state=42, n_jobs=-1, max_depth=5,\n",
    "                                       n_estimators=100, oob_score=True)\n",
    "classifier_rf.fit(X_train, y_train)\n",
    "predicted2= classifier_rf.predict(X_test)\n",
    "print(\"RandomForest Accuracy:\",metrics.accuracy_score(y_test, predicted2))\n",
    "print(\"Classification Report of RandomForest:\")\n",
    "print(classification_report(y_test, predicted2))\n",
    "print(\"Confuusion Matrix\")\n",
    "cm1=metrics.confusion_matrix(y_test, predicted2)\n",
    "plt.figure(figsize=(8,5))\n",
    "plt.style.use(\"seaborn\")\n",
    "sns.heatmap(cm1,cmap='PiYG',annot=True)"
   ]
  },
  {
   "cell_type": "code",
   "execution_count": 78,
   "id": "8143ebfd",
   "metadata": {},
   "outputs": [
    {
     "name": "stdout",
     "output_type": "stream",
     "text": [
      "DecisionTree Accuracy: 0.4191508228359805\n",
      "Classification Report of DecisionTree:\n",
      "              precision    recall  f1-score   support\n",
      "\n",
      " Center Zone       0.45      0.32      0.37     25364\n",
      "  North Zone       0.41      0.82      0.54     28815\n",
      "  South Zone       0.90      0.02      0.03     22507\n",
      "\n",
      "    accuracy                           0.42     76686\n",
      "   macro avg       0.59      0.39      0.32     76686\n",
      "weighted avg       0.57      0.42      0.34     76686\n",
      "\n",
      "Confuusion Matrix\n"
     ]
    },
    {
     "data": {
      "text/plain": [
       "<AxesSubplot:>"
      ]
     },
     "execution_count": 78,
     "metadata": {},
     "output_type": "execute_result"
    },
    {
     "data": {
      "image/png": "[encoded data removed]",
      "text/plain": [
       "<Figure size 576x360 with 2 Axes>"
      ]
     },
     "metadata": {},
     "output_type": "display_data"
    }
   ],
   "source": [
    "from sklearn.tree import DecisionTreeClassifier\n",
    "import warnings\n",
    "warnings.filterwarnings(\"ignore\")\n",
    "decision_tree = DecisionTreeClassifier(random_state=0, max_depth=2)\n",
    "decision_tree.fit(X_train, y_train)\n",
    "predicted3= decision_tree.predict(X_test)\n",
    "print(\"DecisionTree Accuracy:\",metrics.accuracy_score(y_test, predicted3))\n",
    "dtm=metrics.confusion_matrix(y_test, predicted3)\n",
    "print(\"Classification Report of DecisionTree:\")\n",
    "print(classification_report(y_test, predicted3))\n",
    "print(\"Confuusion Matrix\")\n",
    "cm1=metrics.confusion_matrix(y_test, predicted2)\n",
    "plt.figure(figsize=(8,5))\n",
    "plt.style.use(\"seaborn\")\n",
    "sns.heatmap(dtm,cmap='PiYG',annot=True)"
   ]
  },
  {
   "cell_type": "code",
   "execution_count": 79,
   "id": "0715f438",
   "metadata": {},
   "outputs": [
    {
     "name": "stdout",
     "output_type": "stream",
     "text": [
      "KNeighbors Accuracy: 0.45701953420441804\n",
      "Classification Report of KNeighbors:\n",
      "              precision    recall  f1-score   support\n",
      "\n",
      " Center Zone       0.47      0.46      0.46     25364\n",
      "  North Zone       0.52      0.47      0.49     28815\n",
      "  South Zone       0.39      0.44      0.41     22507\n",
      "\n",
      "    accuracy                           0.46     76686\n",
      "   macro avg       0.46      0.46      0.46     76686\n",
      "weighted avg       0.46      0.46      0.46     76686\n",
      "\n",
      "Confuusion Matrix\n"
     ]
    },
    {
     "data": {
      "text/plain": [
       "<AxesSubplot:>"
      ]
     },
     "execution_count": 79,
     "metadata": {},
     "output_type": "execute_result"
    },
    {
     "data": {
      "image/png": "[encoded data removed]",
      "text/plain": [
       "<Figure size 576x360 with 2 Axes>"
      ]
     },
     "metadata": {},
     "output_type": "display_data"
    }
   ],
   "source": [
    "from sklearn.neighbors import KNeighborsClassifier\n",
    "classifier = KNeighborsClassifier(n_neighbors=5)\n",
    "classifier.fit(X_train, y_train)\n",
    "predicted4= classifier.predict(X_test)\n",
    "print(\"KNeighbors Accuracy:\",metrics.accuracy_score(y_test, predicted4))\n",
    "kkm=metrics.confusion_matrix(y_test, predicted4)\n",
    "print(\"Classification Report of KNeighbors:\")\n",
    "print(classification_report(y_test, predicted4))\n",
    "print(\"Confuusion Matrix\")\n",
    "cm1=metrics.confusion_matrix(y_test, predicted2)\n",
    "plt.figure(figsize=(8,5))\n",
    "plt.style.use(\"seaborn\")\n",
    "sns.heatmap(kkm,cmap='PiYG',annot=True)"
   ]
  },
  {
   "cell_type": "code",
   "execution_count": 55,
   "id": "40a54c0f",
   "metadata": {},
   "outputs": [
    {
     "name": "stdout",
     "output_type": "stream",
     "text": [
      "NB: 0.417073\n",
      "KNN: 0.459623\n",
      "RF: 0.522486\n",
      "DT: 0.522481\n"
     ]
    },
    {
     "data": {
      "image/png": "[encoded data removed]",
      "text/plain": [
       "<Figure size 576x396 with 1 Axes>"
      ]
     },
     "metadata": {},
     "output_type": "display_data"
    }
   ],
   "source": [
    "from sklearn.model_selection import cross_val_score\n",
    "import matplotlib.pyplot as plt\n",
    "models = []\n",
    "models.append(('NB', GaussianNB()))\n",
    "models.append(('KNN', KNeighborsClassifier()))\n",
    "models.append(('RF', RandomForestClassifier()))\n",
    "models.append(('DT', DecisionTreeClassifier()))\n",
    "# evaluate each model in turn\n",
    "results = []\n",
    "names = []\n",
    "scoring = 'accuracy'\n",
    "for name, model in models:\n",
    "    #kfold = model_selection.KFold(n_splits=10, random_state=seed)\n",
    "    cv_results = cross_val_score(model, X_train, y_train, cv=10, scoring=scoring)\n",
    "    results.append(cv_results)\n",
    "    names.append(name)\n",
    "    msg = \"%s: %f\" % (name, cv_results.mean())\n",
    "    print(msg)\n",
    "# boxplot algorithm comparison\n",
    "fig = plt.figure()\n",
    "fig.suptitle('Algorithm Comparison')\n",
    "ax = fig.add_subplot(111)\n",
    "plt.boxplot(results)\n",
    "ax.set_xticklabels(names)\n",
    "plt.show()"
   ]
  },
  {
   "cell_type": "code",
   "execution_count": null,
   "id": "97d0e7d2",
   "metadata": {},
   "outputs": [],
   "source": []
  }
 ],
 "metadata": {
  "kernelspec": {
   "display_name": "Python 3",
   "language": "python",
   "name": "python3"
  },
  "language_info": {
   "codemirror_mode": {
    "name": "ipython",
    "version": 3
   },
   "file_extension": ".py",
   "mimetype": "text/x-python",
   "name": "python",
   "nbconvert_exporter": "python",
   "pygments_lexer": "ipython3",
   "version": "3.8.8"
  }
 },
 "nbformat": 4,
 "nbformat_minor": 5
}
